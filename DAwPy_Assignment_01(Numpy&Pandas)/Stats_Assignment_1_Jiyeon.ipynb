{
 "cells": [
  {
   "cell_type": "markdown",
   "metadata": {
    "id": "K7S4cEyZLTp7"
   },
   "source": [
    "## Descriptive Statistics"
   ]
  },
  {
   "cell_type": "markdown",
   "metadata": {
    "id": "vZRYVyc8H7hi"
   },
   "source": [
    " Import **NumPy**, **SciPy**, and **Pandas**"
   ]
  },
  {
   "cell_type": "code",
   "execution_count": 15,
   "metadata": {
    "id": "7ShN0klrHIk3"
   },
   "outputs": [],
   "source": [
    "import numpy as np\n",
    "from scipy import stats\n",
    "import pandas as pd"
   ]
  },
  {
   "cell_type": "markdown",
   "metadata": {
    "id": "_SaQURIqIA6d"
   },
   "source": [
    " Randomly generate 1,000 samples from the normal distribution using `np.random.normal()`(mean = 100, standard deviation = 15)\n",
    "\n",
    "np.random.normal(loc=0.0, scale=1.0, size=None)  #you need to modify this code.\n",
    "\n",
    "loc will be equal to mean, scale will be equal to std deviation, size will be equal to sample size."
   ]
  },
  {
   "cell_type": "code",
   "execution_count": 22,
   "metadata": {
    "id": "Jyw_FMX0IRkm"
   },
   "outputs": [
    {
     "name": "stdout",
     "output_type": "stream",
     "text": [
      "[ 84.63846456 101.79649115 111.97156594  81.00419034 108.4722959\n",
      "  88.89582829  79.48849411  94.55285716 111.6769561   78.00309922\n",
      "  83.55952731  91.43331889  91.26590139  98.11902581  87.29810783\n",
      " 125.95342867 110.55921739 107.88246447 115.87977978 113.87970237\n",
      " 123.10629684 113.65995814 113.21093395  94.77043586 133.91405178\n",
      "  95.23824487 120.05187186 101.29656038  95.76835711  78.21573875\n",
      "  93.58431696 101.30001919  91.55466992 124.86586837  98.96987644\n",
      " 104.5292731  114.49358815  86.34202481  85.01379977  92.41727143\n",
      "  65.97863369  91.55757541  73.96989105 111.63740633 111.15649678\n",
      "  82.7343971   87.47980635  87.12366404 131.18382145 111.96871176\n",
      "  80.52598339  85.80450104  98.22457466 134.92290125  82.42872436\n",
      " 107.62798597 104.40497073  97.31960834  98.85780431 100.42029428\n",
      " 110.98739821 106.37644495 110.87624973 110.41075948 101.35484648\n",
      "  88.25619414 128.81124223 105.73032615  89.83787243 115.44902866\n",
      " 106.32875929 101.17333881 104.82771517  80.07981165 110.03105871\n",
      " 100.24081122 106.44248839 113.97436163 102.99280142 101.85382517\n",
      " 100.58058159 107.11484203 114.74004247  83.56765371 100.58719807\n",
      "  99.41112055 104.13289359 109.01865625 115.01982777 123.29657362\n",
      "  72.20964131 107.76195588 103.03055667  90.26979916  85.74095588\n",
      "  87.03924268  81.11884002  91.30526017 116.78023183  82.74642872\n",
      "  92.23398944  88.33326499 121.08219069  97.98706124  84.45576998\n",
      " 105.87922777  86.62881148 102.51790895 110.50094036  92.03360184\n",
      " 105.59117017 109.1471092  110.72545629  89.81716889  82.33444448\n",
      " 126.34788194  92.42566049  87.56825367  84.69902085  99.32713123\n",
      " 122.50290452 100.66001152  92.23866808  99.28530233 111.46397038\n",
      "  70.81750508 109.25048979  94.94136768 107.11543985  99.93783334\n",
      " 106.30844771 104.3882048  109.73470583 102.24095101  99.76993435\n",
      " 120.23894675  95.87201162  80.62349573  98.86057587 117.01436541\n",
      " 116.81448359 119.31515499  89.75726818 130.98054427 123.92408293\n",
      "  97.42811876  75.41837761 101.37872043  83.88144608 107.10743278\n",
      "  92.4070163   94.34467207 101.63947446 123.66132407  86.71043177\n",
      " 102.36248207 103.1579863  105.11320019  74.47203933 101.34556918\n",
      "  82.25263997 105.95563427 107.56698105  99.048414   102.96416649\n",
      " 105.48909255  86.31962421 101.86672655  80.22214782 116.67669091\n",
      "  88.61514828  93.51455568  97.21190093 110.2592734   98.28401149\n",
      "  98.80870405  89.86094873  89.39865642  91.58351219 104.11338211\n",
      " 104.53118765 106.50804697  90.8054495  123.20237528  74.65619952\n",
      "  74.61929662  85.39891971 101.17610663 118.52957044  91.30334478\n",
      " 105.81156879  96.32286962 107.47285577 110.05689331  60.74860818\n",
      "  99.44554945 103.15782461 106.0839882  104.66752395  84.19332567\n",
      " 101.22246984  85.54753694  93.97283286 115.47110426 115.34177109\n",
      " 103.49848248 113.35436774 125.20944502  95.1627546  125.51947096\n",
      " 104.98348525 120.00183307 105.73089085 102.84448951 100.27142113\n",
      " 109.91785832 100.54715723 106.98901702  81.37385933  80.53940324\n",
      " 104.35250285 127.50206054  71.60335057 103.56704882 117.45103935\n",
      " 111.95872912 133.33696899  79.35757384 102.57649139  93.67656736\n",
      "  80.18860099  92.78281731  89.45719532 104.28641636 100.93374555\n",
      "  72.32078097 129.69316646 109.58921751 100.53695235  99.99935794\n",
      "  98.43971488  88.80166285 105.30256632 104.00662969  97.94035243\n",
      " 118.4985128   67.15363794  92.31036307 104.34920327  84.50066887\n",
      " 102.66861638  97.41413576 100.41410396 124.16268502  82.64573475\n",
      " 102.20561442  79.18548062 103.26414675  77.06362717  99.50429604\n",
      "  86.12658683 124.72770694  72.64616511  93.55791304 120.31949704\n",
      "  78.21558952  95.39743081 121.38977572 104.73683896  95.93846107\n",
      "  88.19834637 114.82864482 101.99949326 112.70067573  90.0365537\n",
      "  95.36883931 107.50081433 115.14752255 103.14056221  87.62220174\n",
      "  78.85176097 108.05500532  98.06101603  86.00706567  98.01852954\n",
      " 121.36078908  95.34265537 113.06260748 114.11849864  87.45941489\n",
      " 114.25460832 141.8407286   90.08773819 100.57700156  90.39031967\n",
      " 111.2749491   75.46333128  97.76986038 100.64842703  98.35544195\n",
      "  99.47422358  69.75056588 114.14795166 101.23329553 104.29920397\n",
      " 100.93215545 117.46439343 134.31822725 103.29592738 136.88092004\n",
      " 108.91492873 111.83471944  85.98123156 108.60891509  77.8820823\n",
      "  80.93551802 106.57153746  84.14310862  84.90268885 141.57125377\n",
      " 109.09519046 112.04174872 103.49380146  74.27892543 121.08935733\n",
      " 124.79459514 125.67355917  80.78154798  97.94177352 123.40198701\n",
      " 116.49573966 110.78259496 115.02040934  85.26471506  82.61499305\n",
      "  96.45746086  88.34475461 104.92855762  98.14530185 105.22317184\n",
      " 104.5215369  106.84335985 106.89822896 109.25111848 111.05775265\n",
      " 118.19562554  93.04720239  97.83242832 107.737453   101.11118184\n",
      " 108.97749435  96.58636788 103.4722049   69.31478635 121.3237061\n",
      " 110.7864258  109.89648472 108.37213169  97.08128498  93.39581165\n",
      "  74.04429984  93.04506313 106.55090329  99.45270799  95.01610785\n",
      "  95.74033277 107.1222198  109.82934141  77.41686599 106.19767087\n",
      " 111.75588861 117.38693506 100.04176578  97.05608872 104.20756632\n",
      "  97.00980008  98.55239198 120.86482369  89.57271839  87.68621093\n",
      "  92.64158106 106.52316787  92.83071954  75.7905448   87.10130474\n",
      " 112.68840292  85.48573475 112.95528437  78.85676439  91.57022821\n",
      "  76.81331985  89.58726288 128.31520497  85.59596022 100.97046585\n",
      " 149.83816632 105.28083138  86.62597752  96.83704401  80.70763658\n",
      "  86.05926308 115.70025466 111.10660572  83.85254962  99.49404233\n",
      " 113.34911051 124.76541532  99.25210992  70.5271221   80.9759048\n",
      "  92.10245417  78.52788209 105.43102792  83.54778465  89.13562165\n",
      " 109.44306003  70.87426347  91.22970175  79.88513118 105.38105666\n",
      " 132.87773465  93.27333799 105.50115342  90.12790976 103.33232635\n",
      " 101.66796861 102.31506289  94.70580881 103.50398392  89.35849319\n",
      " 102.15707662 126.80176355 100.53809734 115.28767585 116.66786928\n",
      " 113.64916524  87.94373885 107.92508962  81.79105021  90.36976201\n",
      "  76.48318107 104.19482046 120.16033012 111.89539483  83.10590107\n",
      " 131.54560152 105.4005168  101.32926847 101.54440641  76.42794781\n",
      "  93.20291814 103.2809299  102.81440329 119.72163994  94.89481958\n",
      " 133.13780249  91.98259998  94.15400918  83.88226939  91.58364168\n",
      " 128.10060096 115.01297978 101.19211663 106.45221486 105.83260855\n",
      "  81.61888068 128.31482127  60.68911761  84.36739303 112.47117905\n",
      " 101.74308615 121.94648489 104.7577402  110.98605144 108.0864146\n",
      "  91.79557865 101.28965761  93.97813525  99.7185601  103.60466233\n",
      " 125.68777272 120.92158024 111.10534552  71.10172766 108.52214383\n",
      " 114.57923426  90.13916933 106.25221683  86.46235888  99.88098193\n",
      "  99.87195312 121.07669063 108.64414649  99.50953622 105.21744068\n",
      "  75.68048864  88.48202916  93.16105192  54.9787846   82.68613004\n",
      " 108.49821164  95.63887032 100.99905143  97.36125348 106.04910211\n",
      " 111.38380222  71.9043183   89.20794207 125.29862085 131.22031844\n",
      " 107.99332622 104.34735991 127.43526263 102.16246667 103.15157032\n",
      "  95.52074545 109.56129541  90.91972333  99.80673899 126.61109266\n",
      "  81.48259547  81.70678986 119.90229996  90.39728197 101.62383362\n",
      " 111.15611444  99.2804314  123.4587449  105.88469939 121.65662327\n",
      " 106.07227218  88.41500897  94.05253118 124.79545905 103.80694775\n",
      " 122.40917548  96.19299245  77.64085693 103.11663903  90.82648387\n",
      "  92.59219543  99.98162274  93.04586465  94.32953518 128.02456577\n",
      "  90.35055983 137.24725878 104.74471205  86.6984089   85.02930707\n",
      " 113.81155241  81.93289082 109.91864082 125.89931298 115.54489833\n",
      " 133.50866294  85.63948552 124.74354008 109.20045941 104.47532994\n",
      " 110.82176285  94.88952706 128.46761204  99.6880256   86.25684268\n",
      "  99.05785246  71.91716495 112.18552366 115.06921579  93.39241464\n",
      "  87.57601992 113.95491502 125.08407018  90.31372278  88.4659155\n",
      "  80.2949211   64.31986321 103.55194097  97.16262611 116.79532764\n",
      " 114.35390136  84.98709034  99.01536676  78.94312982 120.73629328\n",
      " 104.09392554  99.66699878 100.42455915 118.86757586 128.21677714\n",
      "  72.33060264  96.02994211  93.53370333  83.82266917  74.88717485\n",
      "  88.30850584  99.70349122 119.96982795 107.84868024 100.42182629\n",
      " 104.41243287 101.004712   104.32186796 116.92551378 102.96119356\n",
      "  83.95582271 115.91993452 110.03733929 107.75363666  77.93402691\n",
      "  83.24884025  95.58752606  87.71978147 116.98251457  75.58821501\n",
      "  94.86439847 126.32282767  76.60732552  99.69513739  81.14701308\n",
      "  95.05786916  91.64087091  85.14525276 107.7222477   81.88290431\n",
      "  97.51649086  79.5451515  115.39096376  96.64169449  66.92007908\n",
      "  99.70580265 103.93655382  97.68166902  94.44619989 105.37839312\n",
      " 106.29152623  92.22382398 109.02924709  70.8302155   80.027752\n",
      "  83.45459384 120.19909583 121.19684148  82.00426922 100.3910554\n",
      " 104.41611305 112.59522309  87.92793222  98.90846855  98.68537818\n",
      " 102.39084878 121.66434405  76.17910875  97.95512658 104.59486021\n",
      " 122.99761541  93.02214885  93.74780172  80.89371693  99.03036717\n",
      " 100.30156688 100.16275129  95.55913592  88.63535654 126.47108866\n",
      "  99.79006648 108.15487103  91.36741553  92.90342491  95.9171902\n",
      " 118.06531318  95.91532777  57.18204819 106.1171131  122.05449917\n",
      "  78.44989362  99.03159115 107.41781741  79.11587132  93.77684994\n",
      "  90.75849672 106.74715647  70.06977691  98.68152833  99.23358388\n",
      " 104.87905105  99.3474961   85.85242923 101.83970001 141.61866749\n",
      "  97.15418952 116.08821384 121.71607201  82.35315907 108.81842013\n",
      "  82.76206789 109.27359216  73.19578436  99.6887356  107.89994343\n",
      "  94.29134788  81.84313849  86.43979811  88.70853378  98.50733013\n",
      "  83.0136078  112.37277871  95.98283158  79.85118017 111.33706349\n",
      "  84.36931356 112.24730848 110.53987001  72.43802062 121.97486482\n",
      " 122.77820579 100.32035582 121.23801179 131.47757206 102.09301719\n",
      "  88.40105646 113.85598589 101.2219219  102.1996365  114.73722777\n",
      " 120.93425793  88.32860179  84.9342959  126.35979171  95.04030207\n",
      "  79.04158965 114.36943093  96.45389066 131.19993598 102.75116338\n",
      "  95.06149638  79.95170559 102.81465969 113.1371168   86.39616115\n",
      "  99.38308182 118.77621497  76.73563405  88.70918959 105.44618959\n",
      "  86.73448809 106.30569026  97.59213773  85.6754204  115.2326235\n",
      "  94.17400369 109.87419804  97.64169406  78.86885428 104.00253335\n",
      "  84.01018225 112.13197628 138.15744184  90.39541905  89.59945244\n",
      "  84.92783488 102.72757309  94.15445898 111.44865853  80.9453711\n",
      "  99.91251841  95.72131226 108.4280953   87.19099074  95.7018956\n",
      "  82.43815091  86.46734155 103.11054472 103.47411623 114.86355121\n",
      "  97.23798766 109.82149173 105.2839849  102.77552399 118.81713357\n",
      " 118.74342481  73.89346408  78.99307284  83.75120341  99.68382787\n",
      " 101.19738985 100.00451305 107.5471589  106.32721925  97.75922797\n",
      " 100.39685933  94.04378757 117.07969078  81.02561809 112.97397718\n",
      "  89.16252631  89.28524043  77.61314553  83.9365056  112.29211468\n",
      " 113.71036954  78.94917303  87.89022621  99.06684832 112.89916456\n",
      " 104.47808827  99.24463778 101.80575305 110.71328991  91.02437845\n",
      " 115.46142074 110.63563162 117.2190323  137.79279194 105.69242192\n",
      "  94.61091907 111.14005002 106.34124973  88.8133786   91.35271585\n",
      "  98.41179033  60.21125095  86.59961278  94.47179368  96.69453645\n",
      " 115.67425648 109.0328958   89.0988908   95.04332576  96.78421708\n",
      "  82.87687583  97.54857128  86.95006482  82.43845974  80.85258484\n",
      " 106.4260907   85.43124647 106.18319841  77.3037969  102.6817345\n",
      "  87.77703014  97.92782153 103.45295219  83.31374737  79.16750746\n",
      " 121.10223822  89.74479865  87.13065832  99.035026    77.72591371\n",
      " 110.12901532  99.22793121 116.59336054 102.16139052 110.33849017\n",
      " 101.403449   107.37083155  98.11212436 114.94561352  80.88792839\n",
      "  97.88301571 126.97594179 110.08171485 122.51771945  87.83848019\n",
      " 114.8978187   97.52885711  80.19810925 107.01151274 114.49079435\n",
      "  94.47874094  87.4498424  137.9671559   82.55320209 113.9761701\n",
      "  93.07900188  87.72815681 107.74032033  91.90090479 110.6067796\n",
      "  91.64842522 106.49557071 110.08230746 114.17011267 116.47968893\n",
      "  99.2315737  107.61820761 103.37253829 132.3383129  100.82910038\n",
      "  66.03882934 116.52129457 118.65463451 111.09120958 102.06947144\n",
      " 112.83034109 117.64855845  95.038836    98.15076888  84.73542467\n",
      "  86.97056471 107.35677769  89.04383657  89.87865147 120.07512479\n",
      "  93.57723764 128.3755223  120.9319085   81.9057687   94.04355447\n",
      "  98.1033853   84.224674   134.37562069 115.6238261  113.46093443\n",
      " 122.4511907  116.38294516 120.29673106  83.42648089  86.92883674\n",
      " 120.27442043 123.99551945 105.33124426 114.22854353  79.9380845\n",
      " 115.31238111 105.11527721 111.96785807  87.6718428  114.21587614\n",
      " 101.3559065   85.47437459  95.14968407  84.48905655 123.3754071\n",
      "  83.50963375  71.02750466 102.59739374 120.83652679  97.47034823\n",
      " 116.74238921 101.00629963 109.45982933  84.32522384  93.87841855\n",
      "  58.46268682  93.88335951 107.78560391  82.12747952 113.09318876\n",
      " 110.80352087 106.41345279  82.38957187 116.90698038  84.77312604\n",
      " 115.7944675  110.11153345  63.81645329  93.37405323  98.51507431\n",
      " 102.44987608 109.43457996  89.36109685 114.86006692  90.06091622\n",
      "  91.27876276 127.09318572 100.12975634 110.75135353 116.30064816\n",
      " 107.24928263 100.74406768 100.52547536 107.79279812 111.02660355\n",
      " 121.19170482 106.16458195  86.27893293 117.31263852  84.95882687\n",
      "  85.69219096  70.99786683  71.76174227 113.55459632  92.89434377\n",
      "  96.97918502  89.94655937 105.6152719   85.10703058 113.18241772\n",
      " 107.21213565  74.96973959 112.9263545  111.38354964 116.34392996\n",
      "  91.03317543 125.34422156 113.72590063 118.18733825 115.30138363]\n"
     ]
    }
   ],
   "source": [
    "samples = np.random.normal(loc=100, scale=15, size=1000)"
   ]
  },
  {
   "cell_type": "markdown",
   "metadata": {
    "id": "CDF8m3a4IYOC"
   },
   "source": [
    "Compute the **mean**, **median**, and **mode**"
   ]
  },
  {
   "cell_type": "code",
   "execution_count": 20,
   "metadata": {
    "id": "ZKbeqxaKIoNs"
   },
   "outputs": [
    {
     "name": "stdout",
     "output_type": "stream",
     "text": [
      "mean:  99.64164664155962\n",
      "median:  99.97896687170882\n",
      "mode:  ModeResult(mode=52.470051717390675, count=1)\n"
     ]
    }
   ],
   "source": [
    "mean_samples = np.mean(samples)\n",
    "print(\"mean: \", mean_samples)\n",
    "median_samples = np.median(samples)\n",
    "print(\"median: \", median_samples)\n",
    "mode_samples = stats.mode(samples, keepdims=False)\n",
    "print(\"mode: \", mode_samples)"
   ]
  },
  {
   "cell_type": "markdown",
   "metadata": {
    "id": "skT8m39XI60w"
   },
   "source": [
    "Compute the **min**, **max**, **Q1**, **Q3**, and **interquartile range**"
   ]
  },
  {
   "cell_type": "code",
   "execution_count": 25,
   "metadata": {
    "id": "VaiDphm8It0O"
   },
   "outputs": [
    {
     "name": "stdout",
     "output_type": "stream",
     "text": [
      "min:  54.97878460360567\n",
      "max:  149.83816631733004\n",
      "Q1:  89.44256059538955\n",
      "Q3:  110.65504619191167\n",
      "IQR:  21.212485596522114\n"
     ]
    }
   ],
   "source": [
    "min = np.min(samples)\n",
    "print(\"min: \", min)\n",
    "\n",
    "max = np.max(samples)\n",
    "print(\"max: \", max)\n",
    "\n",
    "q1 = np.percentile(samples, 25)\n",
    "print(\"Q1: \", q1)\n",
    "\n",
    "q3 = np.percentile(samples, 75)\n",
    "print(\"Q3: \", q3)\n",
    "\n",
    "iqr = q3-q1\n",
    "print(\"IQR: \", iqr)"
   ]
  },
  {
   "cell_type": "code",
   "execution_count": 26,
   "metadata": {},
   "outputs": [],
   "source": [
    "# another way\n",
    "\n",
    "from scipy.stats import iqr"
   ]
  },
  {
   "cell_type": "code",
   "execution_count": 27,
   "metadata": {},
   "outputs": [
    {
     "data": {
      "text/plain": [
       "21.212485596522114"
      ]
     },
     "execution_count": 27,
     "metadata": {},
     "output_type": "execute_result"
    }
   ],
   "source": [
    "iqr(samples)"
   ]
  },
  {
   "cell_type": "markdown",
   "metadata": {
    "id": "m53Dv3n5JHQi"
   },
   "source": [
    "Compute the **variance** and **standard deviation**"
   ]
  },
  {
   "cell_type": "code",
   "execution_count": 30,
   "metadata": {
    "id": "6JFaAYdrJbeN"
   },
   "outputs": [
    {
     "name": "stdout",
     "output_type": "stream",
     "text": [
      "variance:  223.07068212572474\n",
      "standard deviation:  14.935550948181481\n"
     ]
    }
   ],
   "source": [
    "variance = np.var(samples)\n",
    "print(\"variance: \", variance)\n",
    "\n",
    "std_dev = np.std(samples)\n",
    "print(\"standard deviation: \", std_dev)"
   ]
  },
  {
   "cell_type": "markdown",
   "metadata": {
    "id": "5eup4hI1JzqX"
   },
   "source": [
    "Compute the **skewness** and **kurtosis**\n",
    "\n",
    "You can use [`scipy.stats.skew`](https://docs.scipy.org/doc/scipy/reference/generated/scipy.stats.skew.html) and [`scipy.stats.kurtosis`](https://docs.scipy.org/doc/scipy/reference/generated/scipy.stats.kurtosis.html)"
   ]
  },
  {
   "cell_type": "code",
   "execution_count": 31,
   "metadata": {
    "id": "YO3obyDnJ3_D"
   },
   "outputs": [
    {
     "name": "stdout",
     "output_type": "stream",
     "text": [
      "skewness:  0.03014048241398409\n",
      "kurtosis:  -0.1472206818901074\n"
     ]
    }
   ],
   "source": [
    "skewness = stats.skew(samples)\n",
    "print(\"skewness: \", skewness)\n",
    "kurtosis = stats.kurtosis(samples)\n",
    "print(\"kurtosis: \", kurtosis)"
   ]
  },
  {
   "cell_type": "markdown",
   "metadata": {
    "id": "a5UNc8PUKnbU"
   },
   "source": [
    "## NumPy Correlation Calculation"
   ]
  },
  {
   "cell_type": "markdown",
   "metadata": {
    "id": "cLiqxE1CMNTg"
   },
   "source": [
    "Create an array x of integers between 10 (inclusive) and 20 (exclusive). Use `np.arange()`"
   ]
  },
  {
   "cell_type": "code",
   "execution_count": 34,
   "metadata": {
    "id": "5LAaQ6w5L-2L"
   },
   "outputs": [
    {
     "data": {
      "text/plain": [
       "array([10, 11, 12, 13, 14, 15, 16, 17, 18, 19])"
      ]
     },
     "execution_count": 34,
     "metadata": {},
     "output_type": "execute_result"
    }
   ],
   "source": [
    "x = np.arange(10,20)\n",
    "x"
   ]
  },
  {
   "cell_type": "markdown",
   "metadata": {
    "id": "qyCIaukNMZPf"
   },
   "source": [
    "Then use `np.array()` to create a second array y containing 10 arbitrary integers."
   ]
  },
  {
   "cell_type": "code",
   "execution_count": 35,
   "metadata": {
    "id": "p27eW__gNMdh"
   },
   "outputs": [],
   "source": [
    "y = np.array([1, 3, 5, 6, 8, 5, 7, 6, 9, 2])"
   ]
  },
  {
   "cell_type": "markdown",
   "metadata": {
    "id": "Kh_VeKwINSqS"
   },
   "source": [
    "Once you have two arrays of the same length, you can compute the **correlation coefficient** between x and y"
   ]
  },
  {
   "cell_type": "code",
   "execution_count": 36,
   "metadata": {
    "id": "yrtC6rPkNSDC"
   },
   "outputs": [
    {
     "data": {
      "text/plain": [
       "array([[1.        , 0.39930792],\n",
       "       [0.39930792, 1.        ]])"
      ]
     },
     "execution_count": 36,
     "metadata": {},
     "output_type": "execute_result"
    }
   ],
   "source": [
    "r = np.corrcoef(x, y)\n",
    "r"
   ]
  },
  {
   "cell_type": "markdown",
   "metadata": {
    "id": "vXieLjYiNtPi"
   },
   "source": [
    "## Pandas Correlation Calculation"
   ]
  },
  {
   "cell_type": "markdown",
   "metadata": {
    "id": "z56t0k0qNvkr"
   },
   "source": [
    "Run the code below"
   ]
  },
  {
   "cell_type": "code",
   "execution_count": 38,
   "metadata": {
    "id": "9AVBMJCyNuwb"
   },
   "outputs": [],
   "source": [
    "x = pd.Series(range(10, 20))\n",
    "y = pd.Series([2, 1, 4, 5, 8, 12, 18, 25, 96, 48])"
   ]
  },
  {
   "cell_type": "markdown",
   "metadata": {
    "id": "ZajVXYe2OCih"
   },
   "source": [
    "Call the relevant method  to calculate Pearson's r correlation."
   ]
  },
  {
   "cell_type": "code",
   "execution_count": 40,
   "metadata": {
    "id": "Ak_rkzbLOafj"
   },
   "outputs": [
    {
     "data": {
      "text/plain": [
       "0.7586402890911867"
      ]
     },
     "execution_count": 40,
     "metadata": {},
     "output_type": "execute_result"
    }
   ],
   "source": [
    "r = x.corr(y, method = \"pearson\")\n",
    "r"
   ]
  },
  {
   "cell_type": "markdown",
   "metadata": {
    "id": "1CygSbnROb9V"
   },
   "source": [
    "OPTIONAL. Call the relevant method to calculate Spearman's rho correlation."
   ]
  },
  {
   "cell_type": "code",
   "execution_count": 42,
   "metadata": {
    "id": "xp_QkXwmOlYY"
   },
   "outputs": [
    {
     "data": {
      "text/plain": [
       "0.9757575757575757"
      ]
     },
     "execution_count": 42,
     "metadata": {},
     "output_type": "execute_result"
    }
   ],
   "source": [
    "rho = x.corr(y, method = \"spearman\")\n",
    "rho"
   ]
  },
  {
   "cell_type": "markdown",
   "metadata": {
    "id": "we7pg7kdOo7y"
   },
   "source": [
    "## Seaborn Dataset Tips"
   ]
  },
  {
   "cell_type": "markdown",
   "metadata": {
    "id": "VlzgFKN7OvqX"
   },
   "source": [
    "Import Seaborn Library"
   ]
  },
  {
   "cell_type": "code",
   "execution_count": 43,
   "metadata": {
    "id": "t-49JRRqO4pw"
   },
   "outputs": [],
   "source": [
    "import seaborn as sns"
   ]
  },
  {
   "cell_type": "markdown",
   "metadata": {
    "id": "0INVBB4tO4y4"
   },
   "source": [
    "Load \"tips\" dataset from Seaborn"
   ]
  },
  {
   "cell_type": "code",
   "execution_count": 44,
   "metadata": {
    "id": "kieLvcM1PBv7"
   },
   "outputs": [],
   "source": [
    "tips = sns.load_dataset(\"tips\")"
   ]
  },
  {
   "cell_type": "markdown",
   "metadata": {
    "id": "o2ISqVQrPh5S"
   },
   "source": [
    "Generate descriptive statistics include those that summarize the central tendency, dispersion"
   ]
  },
  {
   "cell_type": "code",
   "execution_count": 45,
   "metadata": {
    "id": "FyFvmdbJPVg6"
   },
   "outputs": [
    {
     "data": {
      "text/html": [
       "<div>\n",
       "<style scoped>\n",
       "    .dataframe tbody tr th:only-of-type {\n",
       "        vertical-align: middle;\n",
       "    }\n",
       "\n",
       "    .dataframe tbody tr th {\n",
       "        vertical-align: top;\n",
       "    }\n",
       "\n",
       "    .dataframe thead th {\n",
       "        text-align: right;\n",
       "    }\n",
       "</style>\n",
       "<table border=\"1\" class=\"dataframe\">\n",
       "  <thead>\n",
       "    <tr style=\"text-align: right;\">\n",
       "      <th></th>\n",
       "      <th>total_bill</th>\n",
       "      <th>tip</th>\n",
       "      <th>size</th>\n",
       "    </tr>\n",
       "  </thead>\n",
       "  <tbody>\n",
       "    <tr>\n",
       "      <th>count</th>\n",
       "      <td>244.000000</td>\n",
       "      <td>244.000000</td>\n",
       "      <td>244.000000</td>\n",
       "    </tr>\n",
       "    <tr>\n",
       "      <th>mean</th>\n",
       "      <td>19.785943</td>\n",
       "      <td>2.998279</td>\n",
       "      <td>2.569672</td>\n",
       "    </tr>\n",
       "    <tr>\n",
       "      <th>std</th>\n",
       "      <td>8.902412</td>\n",
       "      <td>1.383638</td>\n",
       "      <td>0.951100</td>\n",
       "    </tr>\n",
       "    <tr>\n",
       "      <th>min</th>\n",
       "      <td>3.070000</td>\n",
       "      <td>1.000000</td>\n",
       "      <td>1.000000</td>\n",
       "    </tr>\n",
       "    <tr>\n",
       "      <th>25%</th>\n",
       "      <td>13.347500</td>\n",
       "      <td>2.000000</td>\n",
       "      <td>2.000000</td>\n",
       "    </tr>\n",
       "    <tr>\n",
       "      <th>50%</th>\n",
       "      <td>17.795000</td>\n",
       "      <td>2.900000</td>\n",
       "      <td>2.000000</td>\n",
       "    </tr>\n",
       "    <tr>\n",
       "      <th>75%</th>\n",
       "      <td>24.127500</td>\n",
       "      <td>3.562500</td>\n",
       "      <td>3.000000</td>\n",
       "    </tr>\n",
       "    <tr>\n",
       "      <th>max</th>\n",
       "      <td>50.810000</td>\n",
       "      <td>10.000000</td>\n",
       "      <td>6.000000</td>\n",
       "    </tr>\n",
       "  </tbody>\n",
       "</table>\n",
       "</div>"
      ],
      "text/plain": [
       "       total_bill         tip        size\n",
       "count  244.000000  244.000000  244.000000\n",
       "mean    19.785943    2.998279    2.569672\n",
       "std      8.902412    1.383638    0.951100\n",
       "min      3.070000    1.000000    1.000000\n",
       "25%     13.347500    2.000000    2.000000\n",
       "50%     17.795000    2.900000    2.000000\n",
       "75%     24.127500    3.562500    3.000000\n",
       "max     50.810000   10.000000    6.000000"
      ]
     },
     "execution_count": 45,
     "metadata": {},
     "output_type": "execute_result"
    }
   ],
   "source": [
    "tips.describe()"
   ]
  },
  {
   "cell_type": "markdown",
   "metadata": {
    "id": "3yCRK4VJPzRo"
   },
   "source": [
    "Call the relevant method to calculate pairwise Pearson's r correlation of columns (plus heatmap)"
   ]
  },
  {
   "cell_type": "code",
   "execution_count": 49,
   "metadata": {
    "id": "qwvGzDU8PGnM"
   },
   "outputs": [
    {
     "data": {
      "text/plain": [
       "<AxesSubplot:>"
      ]
     },
     "execution_count": 49,
     "metadata": {},
     "output_type": "execute_result"
    },
    {
     "data": {
      "image/png": "[encoded data removed]",
      "text/plain": [
       "<Figure size 640x480 with 2 Axes>"
      ]
     },
     "metadata": {},
     "output_type": "display_data"
    }
   ],
   "source": [
    "sns.heatmap(tips.corr(method = \"pearson\"), annot = True)"
   ]
  }
 ],
 "metadata": {
  "colab": {
   "provenance": []
  },
  "kernelspec": {
   "display_name": "Python 3 (ipykernel)",
   "language": "python",
   "name": "python3"
  },
  "language_info": {
   "codemirror_mode": {
    "name": "ipython",
    "version": 3
   },
   "file_extension": ".py",
   "mimetype": "text/x-python",
   "name": "python",
   "nbconvert_exporter": "python",
   "pygments_lexer": "ipython3",
   "version": "3.9.13"
  }
 },
 "nbformat": 4,
 "nbformat_minor": 1
}
